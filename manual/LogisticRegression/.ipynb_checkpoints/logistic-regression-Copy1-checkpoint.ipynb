{
 "cells": [
  {
   "cell_type": "markdown",
   "id": "35253997",
   "metadata": {
    "papermill": {
     "duration": 0.039248,
     "end_time": "2022-01-13T10:52:10.497207",
     "exception": false,
     "start_time": "2022-01-13T10:52:10.457959",
     "status": "completed"
    },
    "tags": []
   },
   "source": [
    "# 1. Import the Relevant Libraries"
   ]
  },
  {
   "cell_type": "code",
   "execution_count": 2,
   "id": "fa05e134",
   "metadata": {
    "_cell_guid": "b1076dfc-b9ad-4769-8c92-a6c4dae69d19",
    "_uuid": "8f2839f25d086af736a60e9eeb907d3b93b6e0e5",
    "papermill": {
     "duration": 1.448971,
     "end_time": "2022-01-13T10:52:11.985870",
     "exception": false,
     "start_time": "2022-01-13T10:52:10.536899",
     "status": "completed"
    },
    "tags": []
   },
   "outputs": [],
   "source": [
    "import pandas as pd\n",
    "import numpy as np\n",
    "from matplotlib import pyplot as plt\n",
    "%matplotlib inline\n",
    "import seaborn as sns\n",
    "from sklearn.linear_model import LogisticRegression\n",
    "from sklearn.model_selection import train_test_split"
   ]
  },
  {
   "cell_type": "markdown",
   "id": "b231793e",
   "metadata": {
    "papermill": {
     "duration": 0.036511,
     "end_time": "2022-01-13T10:52:12.060308",
     "exception": false,
     "start_time": "2022-01-13T10:52:12.023797",
     "status": "completed"
    },
    "tags": []
   },
   "source": [
    "# 2. Load the Dataset"
   ]
  },
  {
   "cell_type": "code",
   "execution_count": 3,
   "id": "b2ebfdd7",
   "metadata": {
    "papermill": {
     "duration": 0.063314,
     "end_time": "2022-01-13T10:52:12.159838",
     "exception": false,
     "start_time": "2022-01-13T10:52:12.096524",
     "status": "completed"
    },
    "tags": []
   },
   "outputs": [],
   "source": [
    "data = pd.read_csv('Social_Network_Ads.csv')"
   ]
  },
  {
   "cell_type": "markdown",
   "id": "e7d1ae18",
   "metadata": {
    "papermill": {
     "duration": 0.035674,
     "end_time": "2022-01-13T10:52:12.231730",
     "exception": false,
     "start_time": "2022-01-13T10:52:12.196056",
     "status": "completed"
    },
    "tags": []
   },
   "source": [
    "# 3. Explore the Dataset"
   ]
  },
  {
   "cell_type": "code",
   "execution_count": 4,
   "id": "96ae2b94",
   "metadata": {
    "papermill": {
     "duration": 0.05962,
     "end_time": "2022-01-13T10:52:12.327546",
     "exception": false,
     "start_time": "2022-01-13T10:52:12.267926",
     "status": "completed"
    },
    "tags": []
   },
   "outputs": [
    {
     "data": {
      "text/html": [
       "<div>\n",
       "<style scoped>\n",
       "    .dataframe tbody tr th:only-of-type {\n",
       "        vertical-align: middle;\n",
       "    }\n",
       "\n",
       "    .dataframe tbody tr th {\n",
       "        vertical-align: top;\n",
       "    }\n",
       "\n",
       "    .dataframe thead th {\n",
       "        text-align: right;\n",
       "    }\n",
       "</style>\n",
       "<table border=\"1\" class=\"dataframe\">\n",
       "  <thead>\n",
       "    <tr style=\"text-align: right;\">\n",
       "      <th></th>\n",
       "      <th>User ID</th>\n",
       "      <th>Gender</th>\n",
       "      <th>Age</th>\n",
       "      <th>EstimatedSalary</th>\n",
       "      <th>Purchased</th>\n",
       "    </tr>\n",
       "  </thead>\n",
       "  <tbody>\n",
       "    <tr>\n",
       "      <th>0</th>\n",
       "      <td>15624510</td>\n",
       "      <td>Male</td>\n",
       "      <td>19</td>\n",
       "      <td>19000</td>\n",
       "      <td>0</td>\n",
       "    </tr>\n",
       "    <tr>\n",
       "      <th>1</th>\n",
       "      <td>15810944</td>\n",
       "      <td>Male</td>\n",
       "      <td>35</td>\n",
       "      <td>20000</td>\n",
       "      <td>0</td>\n",
       "    </tr>\n",
       "    <tr>\n",
       "      <th>2</th>\n",
       "      <td>15668575</td>\n",
       "      <td>Female</td>\n",
       "      <td>26</td>\n",
       "      <td>43000</td>\n",
       "      <td>0</td>\n",
       "    </tr>\n",
       "    <tr>\n",
       "      <th>3</th>\n",
       "      <td>15603246</td>\n",
       "      <td>Female</td>\n",
       "      <td>27</td>\n",
       "      <td>57000</td>\n",
       "      <td>0</td>\n",
       "    </tr>\n",
       "    <tr>\n",
       "      <th>4</th>\n",
       "      <td>15804002</td>\n",
       "      <td>Male</td>\n",
       "      <td>19</td>\n",
       "      <td>76000</td>\n",
       "      <td>0</td>\n",
       "    </tr>\n",
       "    <tr>\n",
       "      <th>5</th>\n",
       "      <td>15728773</td>\n",
       "      <td>Male</td>\n",
       "      <td>27</td>\n",
       "      <td>58000</td>\n",
       "      <td>0</td>\n",
       "    </tr>\n",
       "    <tr>\n",
       "      <th>6</th>\n",
       "      <td>15598044</td>\n",
       "      <td>Female</td>\n",
       "      <td>27</td>\n",
       "      <td>84000</td>\n",
       "      <td>0</td>\n",
       "    </tr>\n",
       "    <tr>\n",
       "      <th>7</th>\n",
       "      <td>15694829</td>\n",
       "      <td>Female</td>\n",
       "      <td>32</td>\n",
       "      <td>150000</td>\n",
       "      <td>1</td>\n",
       "    </tr>\n",
       "    <tr>\n",
       "      <th>8</th>\n",
       "      <td>15600575</td>\n",
       "      <td>Male</td>\n",
       "      <td>25</td>\n",
       "      <td>33000</td>\n",
       "      <td>0</td>\n",
       "    </tr>\n",
       "    <tr>\n",
       "      <th>9</th>\n",
       "      <td>15727311</td>\n",
       "      <td>Female</td>\n",
       "      <td>35</td>\n",
       "      <td>65000</td>\n",
       "      <td>0</td>\n",
       "    </tr>\n",
       "  </tbody>\n",
       "</table>\n",
       "</div>"
      ],
      "text/plain": [
       "    User ID  Gender  Age  EstimatedSalary  Purchased\n",
       "0  15624510    Male   19            19000          0\n",
       "1  15810944    Male   35            20000          0\n",
       "2  15668575  Female   26            43000          0\n",
       "3  15603246  Female   27            57000          0\n",
       "4  15804002    Male   19            76000          0\n",
       "5  15728773    Male   27            58000          0\n",
       "6  15598044  Female   27            84000          0\n",
       "7  15694829  Female   32           150000          1\n",
       "8  15600575    Male   25            33000          0\n",
       "9  15727311  Female   35            65000          0"
      ]
     },
     "execution_count": 4,
     "metadata": {},
     "output_type": "execute_result"
    }
   ],
   "source": [
    "data.head(10)"
   ]
  },
  {
   "cell_type": "code",
   "execution_count": 4,
   "id": "9fd8fcc5",
   "metadata": {
    "execution": {
     "iopub.execute_input": "2022-01-13T10:52:12.428197Z",
     "iopub.status.busy": "2022-01-13T10:52:12.426938Z",
     "iopub.status.idle": "2022-01-13T10:52:12.430376Z",
     "shell.execute_reply": "2022-01-13T10:52:12.430923Z",
     "shell.execute_reply.started": "2022-01-13T10:46:10.657535Z"
    },
    "papermill": {
     "duration": 0.066444,
     "end_time": "2022-01-13T10:52:12.431109",
     "exception": false,
     "start_time": "2022-01-13T10:52:12.364665",
     "status": "completed"
    },
    "tags": []
   },
   "outputs": [
    {
     "name": "stdout",
     "output_type": "stream",
     "text": [
      "<class 'pandas.core.frame.DataFrame'>\n",
      "RangeIndex: 400 entries, 0 to 399\n",
      "Data columns (total 5 columns):\n",
      " #   Column           Non-Null Count  Dtype \n",
      "---  ------           --------------  ----- \n",
      " 0   User ID          400 non-null    int64 \n",
      " 1   Gender           400 non-null    object\n",
      " 2   Age              400 non-null    int64 \n",
      " 3   EstimatedSalary  400 non-null    int64 \n",
      " 4   Purchased        400 non-null    int64 \n",
      "dtypes: int64(4), object(1)\n",
      "memory usage: 15.8+ KB\n"
     ]
    }
   ],
   "source": [
    "data.info()"
   ]
  },
  {
   "cell_type": "markdown",
   "id": "b913015b",
   "metadata": {
    "papermill": {
     "duration": 0.036605,
     "end_time": "2022-01-13T10:52:12.505959",
     "exception": false,
     "start_time": "2022-01-13T10:52:12.469354",
     "status": "completed"
    },
    "tags": []
   },
   "source": [
    "# 4. Check for Missing Values"
   ]
  },
  {
   "cell_type": "code",
   "execution_count": 5,
   "id": "fbdb3c35",
   "metadata": {
    "execution": {
     "iopub.execute_input": "2022-01-13T10:52:12.588948Z",
     "iopub.status.busy": "2022-01-13T10:52:12.583820Z",
     "iopub.status.idle": "2022-01-13T10:52:12.592196Z",
     "shell.execute_reply": "2022-01-13T10:52:12.592655Z",
     "shell.execute_reply.started": "2022-01-13T10:46:10.679011Z"
    },
    "papermill": {
     "duration": 0.049901,
     "end_time": "2022-01-13T10:52:12.592847",
     "exception": false,
     "start_time": "2022-01-13T10:52:12.542946",
     "status": "completed"
    },
    "tags": []
   },
   "outputs": [
    {
     "data": {
      "text/plain": [
       "User ID            0\n",
       "Gender             0\n",
       "Age                0\n",
       "EstimatedSalary    0\n",
       "Purchased          0\n",
       "dtype: int64"
      ]
     },
     "execution_count": 5,
     "metadata": {},
     "output_type": "execute_result"
    }
   ],
   "source": [
    "data.isnull().sum()"
   ]
  },
  {
   "cell_type": "markdown",
   "id": "eff02f48",
   "metadata": {
    "papermill": {
     "duration": 0.03709,
     "end_time": "2022-01-13T10:52:12.900750",
     "exception": false,
     "start_time": "2022-01-13T10:52:12.863660",
     "status": "completed"
    },
    "tags": []
   },
   "source": [
    "# 6. Convert the categorical variable to numeric\n",
    "\n",
    "#### *The variable 'Purchased' has categorical data. So we will convert into numeric type.*"
   ]
  },
  {
   "cell_type": "code",
   "execution_count": 7,
   "id": "76150cfe",
   "metadata": {
    "execution": {
     "iopub.execute_input": "2022-01-13T10:52:12.979855Z",
     "iopub.status.busy": "2022-01-13T10:52:12.978842Z",
     "iopub.status.idle": "2022-01-13T10:52:12.997074Z",
     "shell.execute_reply": "2022-01-13T10:52:12.997523Z",
     "shell.execute_reply.started": "2022-01-13T10:46:10.709557Z"
    },
    "papermill": {
     "duration": 0.059191,
     "end_time": "2022-01-13T10:52:12.997723",
     "exception": false,
     "start_time": "2022-01-13T10:52:12.938532",
     "status": "completed"
    },
    "tags": []
   },
   "outputs": [
    {
     "data": {
      "text/html": [
       "<div>\n",
       "<style scoped>\n",
       "    .dataframe tbody tr th:only-of-type {\n",
       "        vertical-align: middle;\n",
       "    }\n",
       "\n",
       "    .dataframe tbody tr th {\n",
       "        vertical-align: top;\n",
       "    }\n",
       "\n",
       "    .dataframe thead th {\n",
       "        text-align: right;\n",
       "    }\n",
       "</style>\n",
       "<table border=\"1\" class=\"dataframe\">\n",
       "  <thead>\n",
       "    <tr style=\"text-align: right;\">\n",
       "      <th></th>\n",
       "      <th>User ID</th>\n",
       "      <th>Age</th>\n",
       "      <th>EstimatedSalary</th>\n",
       "      <th>Purchased</th>\n",
       "      <th>Female</th>\n",
       "      <th>Male</th>\n",
       "    </tr>\n",
       "  </thead>\n",
       "  <tbody>\n",
       "    <tr>\n",
       "      <th>0</th>\n",
       "      <td>15624510</td>\n",
       "      <td>19</td>\n",
       "      <td>19000</td>\n",
       "      <td>0</td>\n",
       "      <td>0</td>\n",
       "      <td>1</td>\n",
       "    </tr>\n",
       "    <tr>\n",
       "      <th>1</th>\n",
       "      <td>15810944</td>\n",
       "      <td>35</td>\n",
       "      <td>20000</td>\n",
       "      <td>0</td>\n",
       "      <td>0</td>\n",
       "      <td>1</td>\n",
       "    </tr>\n",
       "    <tr>\n",
       "      <th>2</th>\n",
       "      <td>15668575</td>\n",
       "      <td>26</td>\n",
       "      <td>43000</td>\n",
       "      <td>0</td>\n",
       "      <td>1</td>\n",
       "      <td>0</td>\n",
       "    </tr>\n",
       "    <tr>\n",
       "      <th>3</th>\n",
       "      <td>15603246</td>\n",
       "      <td>27</td>\n",
       "      <td>57000</td>\n",
       "      <td>0</td>\n",
       "      <td>1</td>\n",
       "      <td>0</td>\n",
       "    </tr>\n",
       "    <tr>\n",
       "      <th>4</th>\n",
       "      <td>15804002</td>\n",
       "      <td>19</td>\n",
       "      <td>76000</td>\n",
       "      <td>0</td>\n",
       "      <td>0</td>\n",
       "      <td>1</td>\n",
       "    </tr>\n",
       "    <tr>\n",
       "      <th>...</th>\n",
       "      <td>...</td>\n",
       "      <td>...</td>\n",
       "      <td>...</td>\n",
       "      <td>...</td>\n",
       "      <td>...</td>\n",
       "      <td>...</td>\n",
       "    </tr>\n",
       "    <tr>\n",
       "      <th>395</th>\n",
       "      <td>15691863</td>\n",
       "      <td>46</td>\n",
       "      <td>41000</td>\n",
       "      <td>1</td>\n",
       "      <td>1</td>\n",
       "      <td>0</td>\n",
       "    </tr>\n",
       "    <tr>\n",
       "      <th>396</th>\n",
       "      <td>15706071</td>\n",
       "      <td>51</td>\n",
       "      <td>23000</td>\n",
       "      <td>1</td>\n",
       "      <td>0</td>\n",
       "      <td>1</td>\n",
       "    </tr>\n",
       "    <tr>\n",
       "      <th>397</th>\n",
       "      <td>15654296</td>\n",
       "      <td>50</td>\n",
       "      <td>20000</td>\n",
       "      <td>1</td>\n",
       "      <td>1</td>\n",
       "      <td>0</td>\n",
       "    </tr>\n",
       "    <tr>\n",
       "      <th>398</th>\n",
       "      <td>15755018</td>\n",
       "      <td>36</td>\n",
       "      <td>33000</td>\n",
       "      <td>0</td>\n",
       "      <td>0</td>\n",
       "      <td>1</td>\n",
       "    </tr>\n",
       "    <tr>\n",
       "      <th>399</th>\n",
       "      <td>15594041</td>\n",
       "      <td>49</td>\n",
       "      <td>36000</td>\n",
       "      <td>1</td>\n",
       "      <td>1</td>\n",
       "      <td>0</td>\n",
       "    </tr>\n",
       "  </tbody>\n",
       "</table>\n",
       "<p>400 rows × 6 columns</p>\n",
       "</div>"
      ],
      "text/plain": [
       "      User ID  Age  EstimatedSalary  Purchased  Female  Male\n",
       "0    15624510   19            19000          0       0     1\n",
       "1    15810944   35            20000          0       0     1\n",
       "2    15668575   26            43000          0       1     0\n",
       "3    15603246   27            57000          0       1     0\n",
       "4    15804002   19            76000          0       0     1\n",
       "..        ...  ...              ...        ...     ...   ...\n",
       "395  15691863   46            41000          1       1     0\n",
       "396  15706071   51            23000          1       0     1\n",
       "397  15654296   50            20000          1       1     0\n",
       "398  15755018   36            33000          0       0     1\n",
       "399  15594041   49            36000          1       1     0\n",
       "\n",
       "[400 rows x 6 columns]"
      ]
     },
     "execution_count": 7,
     "metadata": {},
     "output_type": "execute_result"
    }
   ],
   "source": [
    "dummies = pd.get_dummies(data['Gender'])\n",
    "merged = pd.concat([data,dummies], axis='columns')\n",
    "final_data = merged.drop(['Gender'], axis='columns')\n",
    "final_data"
   ]
  },
  {
   "cell_type": "code",
   "execution_count": 8,
   "id": "187a1879",
   "metadata": {
    "execution": {
     "iopub.execute_input": "2022-01-13T10:52:13.078469Z",
     "iopub.status.busy": "2022-01-13T10:52:13.077403Z",
     "iopub.status.idle": "2022-01-13T10:52:13.091013Z",
     "shell.execute_reply": "2022-01-13T10:52:13.091516Z",
     "shell.execute_reply.started": "2022-01-13T10:46:10.736480Z"
    },
    "papermill": {
     "duration": 0.056397,
     "end_time": "2022-01-13T10:52:13.091714",
     "exception": false,
     "start_time": "2022-01-13T10:52:13.035317",
     "status": "completed"
    },
    "tags": []
   },
   "outputs": [
    {
     "name": "stdout",
     "output_type": "stream",
     "text": [
      "<class 'pandas.core.frame.DataFrame'>\n",
      "RangeIndex: 400 entries, 0 to 399\n",
      "Data columns (total 6 columns):\n",
      " #   Column           Non-Null Count  Dtype\n",
      "---  ------           --------------  -----\n",
      " 0   User ID          400 non-null    int64\n",
      " 1   Age              400 non-null    int64\n",
      " 2   EstimatedSalary  400 non-null    int64\n",
      " 3   Purchased        400 non-null    int64\n",
      " 4   Female           400 non-null    uint8\n",
      " 5   Male             400 non-null    uint8\n",
      "dtypes: int64(4), uint8(2)\n",
      "memory usage: 13.4 KB\n"
     ]
    }
   ],
   "source": [
    "final_data.info()"
   ]
  },
  {
   "cell_type": "markdown",
   "id": "8ee6dcf4",
   "metadata": {
    "papermill": {
     "duration": 0.039031,
     "end_time": "2022-01-13T10:52:13.168974",
     "exception": false,
     "start_time": "2022-01-13T10:52:13.129943",
     "status": "completed"
    },
    "tags": []
   },
   "source": [
    "# 7. Size of the Classes"
   ]
  },
  {
   "cell_type": "code",
   "execution_count": 9,
   "id": "b65b220d",
   "metadata": {
    "execution": {
     "iopub.execute_input": "2022-01-13T10:52:13.257667Z",
     "iopub.status.busy": "2022-01-13T10:52:13.256822Z",
     "iopub.status.idle": "2022-01-13T10:52:13.260088Z",
     "shell.execute_reply": "2022-01-13T10:52:13.260526Z",
     "shell.execute_reply.started": "2022-01-13T10:46:10.751812Z"
    },
    "papermill": {
     "duration": 0.05359,
     "end_time": "2022-01-13T10:52:13.260737",
     "exception": false,
     "start_time": "2022-01-13T10:52:13.207147",
     "status": "completed"
    },
    "tags": []
   },
   "outputs": [
    {
     "data": {
      "text/html": [
       "<div>\n",
       "<style scoped>\n",
       "    .dataframe tbody tr th:only-of-type {\n",
       "        vertical-align: middle;\n",
       "    }\n",
       "\n",
       "    .dataframe tbody tr th {\n",
       "        vertical-align: top;\n",
       "    }\n",
       "\n",
       "    .dataframe thead th {\n",
       "        text-align: right;\n",
       "    }\n",
       "</style>\n",
       "<table border=\"1\" class=\"dataframe\">\n",
       "  <thead>\n",
       "    <tr style=\"text-align: right;\">\n",
       "      <th></th>\n",
       "      <th>User ID</th>\n",
       "      <th>Age</th>\n",
       "      <th>EstimatedSalary</th>\n",
       "      <th>Female</th>\n",
       "      <th>Male</th>\n",
       "    </tr>\n",
       "    <tr>\n",
       "      <th>Purchased</th>\n",
       "      <th></th>\n",
       "      <th></th>\n",
       "      <th></th>\n",
       "      <th></th>\n",
       "      <th></th>\n",
       "    </tr>\n",
       "  </thead>\n",
       "  <tbody>\n",
       "    <tr>\n",
       "      <th>0</th>\n",
       "      <td>257</td>\n",
       "      <td>257</td>\n",
       "      <td>257</td>\n",
       "      <td>257</td>\n",
       "      <td>257</td>\n",
       "    </tr>\n",
       "    <tr>\n",
       "      <th>1</th>\n",
       "      <td>143</td>\n",
       "      <td>143</td>\n",
       "      <td>143</td>\n",
       "      <td>143</td>\n",
       "      <td>143</td>\n",
       "    </tr>\n",
       "  </tbody>\n",
       "</table>\n",
       "</div>"
      ],
      "text/plain": [
       "           User ID  Age  EstimatedSalary  Female  Male\n",
       "Purchased                                             \n",
       "0              257  257              257     257   257\n",
       "1              143  143              143     143   143"
      ]
     },
     "execution_count": 9,
     "metadata": {},
     "output_type": "execute_result"
    }
   ],
   "source": [
    "final_data.groupby(['Purchased']).count()"
   ]
  },
  {
   "cell_type": "markdown",
   "id": "9f5cca2d",
   "metadata": {
    "papermill": {
     "duration": 0.038937,
     "end_time": "2022-01-13T10:52:13.339161",
     "exception": false,
     "start_time": "2022-01-13T10:52:13.300224",
     "status": "completed"
    },
    "tags": []
   },
   "source": [
    "#### *From the above, we found that our classes are not of equal size or we have a class imbalance.*"
   ]
  },
  {
   "cell_type": "markdown",
   "id": "715ef001",
   "metadata": {
    "papermill": {
     "duration": 0.038341,
     "end_time": "2022-01-13T10:52:13.416423",
     "exception": false,
     "start_time": "2022-01-13T10:52:13.378082",
     "status": "completed"
    },
    "tags": []
   },
   "source": [
    "# 8. Feature Selection using Correlation Matrix"
   ]
  },
  {
   "cell_type": "code",
   "execution_count": 10,
   "id": "5cf74385",
   "metadata": {
    "execution": {
     "iopub.execute_input": "2022-01-13T10:52:13.500480Z",
     "iopub.status.busy": "2022-01-13T10:52:13.499630Z",
     "iopub.status.idle": "2022-01-13T10:52:13.998118Z",
     "shell.execute_reply": "2022-01-13T10:52:13.998633Z",
     "shell.execute_reply.started": "2022-01-13T10:46:10.766877Z"
    },
    "papermill": {
     "duration": 0.543498,
     "end_time": "2022-01-13T10:52:13.998822",
     "exception": false,
     "start_time": "2022-01-13T10:52:13.455324",
     "status": "completed"
    },
    "tags": []
   },
   "outputs": [
    {
     "data": {
      "text/plain": [
       "<AxesSubplot:>"
      ]
     },
     "execution_count": 10,
     "metadata": {},
     "output_type": "execute_result"
    },
    {
     "data": {
      "image/png": "[encoded data removed]",
      "text/plain": [
       "<Figure size 864x720 with 2 Axes>"
      ]
     },
     "metadata": {
      "needs_background": "light"
     },
     "output_type": "display_data"
    }
   ],
   "source": [
    "plt.figure(figsize=(12,10))\n",
    "corr = final_data.corr()\n",
    "sns.heatmap(corr, annot=True, linewidths=1, cmap='coolwarm')"
   ]
  },
  {
   "cell_type": "markdown",
   "id": "9dd088f6",
   "metadata": {
    "papermill": {
     "duration": 0.040663,
     "end_time": "2022-01-13T10:52:14.080147",
     "exception": false,
     "start_time": "2022-01-13T10:52:14.039484",
     "status": "completed"
    },
    "tags": []
   },
   "source": [
    "#### *There is no multicollinearity among the predictor variables as the correlation coefficients are very low.*\n",
    "#### *The only predictor variable having correlation coefficient>0.5 with target variable is 'Age'. So, the only feature we select is 'Age'.*"
   ]
  },
  {
   "cell_type": "markdown",
   "id": "7b5b0e32",
   "metadata": {
    "papermill": {
     "duration": 0.040328,
     "end_time": "2022-01-13T10:52:14.161302",
     "exception": false,
     "start_time": "2022-01-13T10:52:14.120974",
     "status": "completed"
    },
    "tags": []
   },
   "source": [
    "# 9. Logistic Regression Plot"
   ]
  },
  {
   "cell_type": "code",
   "execution_count": 11,
   "id": "e4785da3",
   "metadata": {
    "execution": {
     "iopub.execute_input": "2022-01-13T10:52:14.247092Z",
     "iopub.status.busy": "2022-01-13T10:52:14.246069Z",
     "iopub.status.idle": "2022-01-13T10:52:18.819092Z",
     "shell.execute_reply": "2022-01-13T10:52:18.818440Z",
     "shell.execute_reply.started": "2022-01-13T10:46:11.335827Z"
    },
    "papermill": {
     "duration": 4.617536,
     "end_time": "2022-01-13T10:52:18.819245",
     "exception": false,
     "start_time": "2022-01-13T10:52:14.201709",
     "status": "completed"
    },
    "tags": []
   },
   "outputs": [
    {
     "data": {
      "image/png": "[encoded data removed]",
      "text/plain": [
       "<Figure size 864x576 with 1 Axes>"
      ]
     },
     "metadata": {},
     "output_type": "display_data"
    }
   ],
   "source": [
    "sns.set_style('darkgrid')\n",
    "p = sns.regplot(x='Age', y='Purchased', data=final_data, logistic=True, scatter_kws={\"color\": \"black\"}, line_kws={\"color\": \"red\"})\n",
    "p.figure.set_size_inches(12,8)"
   ]
  },
  {
   "cell_type": "markdown",
   "id": "5597fa80",
   "metadata": {
    "papermill": {
     "duration": 0.041653,
     "end_time": "2022-01-13T10:52:18.904086",
     "exception": false,
     "start_time": "2022-01-13T10:52:18.862433",
     "status": "completed"
    },
    "tags": []
   },
   "source": [
    "# 10. Split the dataset into train and test data"
   ]
  },
  {
   "cell_type": "code",
   "execution_count": 12,
   "id": "9b09e61f",
   "metadata": {
    "execution": {
     "iopub.execute_input": "2022-01-13T10:52:18.991446Z",
     "iopub.status.busy": "2022-01-13T10:52:18.990826Z",
     "iopub.status.idle": "2022-01-13T10:52:18.995157Z",
     "shell.execute_reply": "2022-01-13T10:52:18.995664Z",
     "shell.execute_reply.started": "2022-01-13T10:46:16.503884Z"
    },
    "papermill": {
     "duration": 0.049414,
     "end_time": "2022-01-13T10:52:18.995841",
     "exception": false,
     "start_time": "2022-01-13T10:52:18.946427",
     "status": "completed"
    },
    "tags": []
   },
   "outputs": [
    {
     "data": {
      "text/plain": [
       "(400, 6)"
      ]
     },
     "execution_count": 12,
     "metadata": {},
     "output_type": "execute_result"
    }
   ],
   "source": [
    "final_data.shape"
   ]
  },
  {
   "cell_type": "code",
   "execution_count": 13,
   "id": "7f1039d0",
   "metadata": {
    "execution": {
     "iopub.execute_input": "2022-01-13T10:52:19.083341Z",
     "iopub.status.busy": "2022-01-13T10:52:19.082622Z",
     "iopub.status.idle": "2022-01-13T10:52:19.091432Z",
     "shell.execute_reply": "2022-01-13T10:52:19.090918Z",
     "shell.execute_reply.started": "2022-01-13T10:46:16.512261Z"
    },
    "papermill": {
     "duration": 0.053557,
     "end_time": "2022-01-13T10:52:19.091572",
     "exception": false,
     "start_time": "2022-01-13T10:52:19.038015",
     "status": "completed"
    },
    "tags": []
   },
   "outputs": [],
   "source": [
    "x_train, x_test, y_train, y_test = train_test_split(final_data[['Age']], final_data.Purchased, train_size = 0.75, random_state = 0)"
   ]
  },
  {
   "cell_type": "code",
   "execution_count": 14,
   "id": "72880ff2",
   "metadata": {
    "execution": {
     "iopub.execute_input": "2022-01-13T10:52:19.182177Z",
     "iopub.status.busy": "2022-01-13T10:52:19.181195Z",
     "iopub.status.idle": "2022-01-13T10:52:19.186031Z",
     "shell.execute_reply": "2022-01-13T10:52:19.186523Z",
     "shell.execute_reply.started": "2022-01-13T10:46:16.536578Z"
    },
    "papermill": {
     "duration": 0.051611,
     "end_time": "2022-01-13T10:52:19.186707",
     "exception": false,
     "start_time": "2022-01-13T10:52:19.135096",
     "status": "completed"
    },
    "tags": []
   },
   "outputs": [
    {
     "data": {
      "text/plain": [
       "(300, 1)"
      ]
     },
     "execution_count": 14,
     "metadata": {},
     "output_type": "execute_result"
    }
   ],
   "source": [
    "x_train.shape"
   ]
  },
  {
   "cell_type": "code",
   "execution_count": 15,
   "id": "db4d96a7",
   "metadata": {
    "execution": {
     "iopub.execute_input": "2022-01-13T10:52:19.275390Z",
     "iopub.status.busy": "2022-01-13T10:52:19.274409Z",
     "iopub.status.idle": "2022-01-13T10:52:19.279460Z",
     "shell.execute_reply": "2022-01-13T10:52:19.279918Z",
     "shell.execute_reply.started": "2022-01-13T10:46:16.544760Z"
    },
    "papermill": {
     "duration": 0.051036,
     "end_time": "2022-01-13T10:52:19.280087",
     "exception": false,
     "start_time": "2022-01-13T10:52:19.229051",
     "status": "completed"
    },
    "tags": []
   },
   "outputs": [
    {
     "data": {
      "text/plain": [
       "(100, 1)"
      ]
     },
     "execution_count": 15,
     "metadata": {},
     "output_type": "execute_result"
    }
   ],
   "source": [
    "x_test.shape"
   ]
  },
  {
   "cell_type": "markdown",
   "id": "3d8b5589",
   "metadata": {
    "papermill": {
     "duration": 0.042387,
     "end_time": "2022-01-13T10:52:19.365147",
     "exception": false,
     "start_time": "2022-01-13T10:52:19.322760",
     "status": "completed"
    },
    "tags": []
   },
   "source": [
    "# 11. Model Initialization"
   ]
  },
  {
   "cell_type": "code",
   "execution_count": 16,
   "id": "3dfa153b",
   "metadata": {
    "execution": {
     "iopub.execute_input": "2022-01-13T10:52:19.454652Z",
     "iopub.status.busy": "2022-01-13T10:52:19.453657Z",
     "iopub.status.idle": "2022-01-13T10:52:19.464418Z",
     "shell.execute_reply": "2022-01-13T10:52:19.463880Z",
     "shell.execute_reply.started": "2022-01-13T10:46:16.560520Z"
    },
    "papermill": {
     "duration": 0.056618,
     "end_time": "2022-01-13T10:52:19.464555",
     "exception": false,
     "start_time": "2022-01-13T10:52:19.407937",
     "status": "completed"
    },
    "tags": []
   },
   "outputs": [
    {
     "data": {
      "text/plain": [
       "LogisticRegression(solver='liblinear')"
      ]
     },
     "execution_count": 16,
     "metadata": {},
     "output_type": "execute_result"
    }
   ],
   "source": [
    "model = LogisticRegression(solver='liblinear') ## For small datasets, ‘liblinear’ is a good choice\n",
    "model.fit(x_train,y_train)"
   ]
  },
  {
   "cell_type": "markdown",
   "id": "90886148",
   "metadata": {
    "papermill": {
     "duration": 0.042555,
     "end_time": "2022-01-13T10:52:19.550193",
     "exception": false,
     "start_time": "2022-01-13T10:52:19.507638",
     "status": "completed"
    },
    "tags": []
   },
   "source": [
    "# 12. Predictions"
   ]
  },
  {
   "cell_type": "code",
   "execution_count": 17,
   "id": "705d8669",
   "metadata": {
    "execution": {
     "iopub.execute_input": "2022-01-13T10:52:19.643493Z",
     "iopub.status.busy": "2022-01-13T10:52:19.642831Z",
     "iopub.status.idle": "2022-01-13T10:52:19.645310Z",
     "shell.execute_reply": "2022-01-13T10:52:19.645796Z",
     "shell.execute_reply.started": "2022-01-13T10:46:16.578467Z"
    },
    "papermill": {
     "duration": 0.052683,
     "end_time": "2022-01-13T10:52:19.645961",
     "exception": false,
     "start_time": "2022-01-13T10:52:19.593278",
     "status": "completed"
    },
    "tags": []
   },
   "outputs": [
    {
     "name": "stdout",
     "output_type": "stream",
     "text": [
      "The Predicted values are:  [0 0 0 0 0 0 0 0 0 1 0 0 0 0 0 0 0 0 1 0 0 1 0 1 0 1 0 0 0 0 0 0 1 0 0 0 0\n",
      " 0 0 1 0 0 0 0 0 0 0 1 0 1 1 0 0 0 1 1 0 0 1 0 0 1 0 0 0 1 0 0 0 0 0 0 0 1\n",
      " 0 0 0 0 1 1 1 1 0 0 1 0 0 1 1 0 0 0 0 0 0 0 0 1 1 0]\n"
     ]
    }
   ],
   "source": [
    "y_predicted = model.predict(x_test)\n",
    "print('The Predicted values are: ', y_predicted)"
   ]
  },
  {
   "cell_type": "code",
   "execution_count": 18,
   "id": "06303475",
   "metadata": {
    "execution": {
     "iopub.execute_input": "2022-01-13T10:52:19.748267Z",
     "iopub.status.busy": "2022-01-13T10:52:19.744067Z",
     "iopub.status.idle": "2022-01-13T10:52:19.759727Z",
     "shell.execute_reply": "2022-01-13T10:52:19.760453Z",
     "shell.execute_reply.started": "2022-01-13T10:46:16.594713Z"
    },
    "papermill": {
     "duration": 0.071332,
     "end_time": "2022-01-13T10:52:19.760633",
     "exception": false,
     "start_time": "2022-01-13T10:52:19.689301",
     "status": "completed"
    },
    "tags": []
   },
   "outputs": [
    {
     "name": "stdout",
     "output_type": "stream",
     "text": [
      "The probability estimates are: \n",
      " [[0.81825419 0.18174581]\n",
      " [0.64358221 0.35641779]\n",
      " [0.71779552 0.28220448]\n",
      " [0.81825419 0.18174581]\n",
      " [0.71779552 0.28220448]\n",
      " [0.86379456 0.13620544]\n",
      " [0.80064999 0.19935001]\n",
      " [0.69409847 0.30590153]\n",
      " [0.9465962  0.0534038 ]\n",
      " [0.39248612 0.60751388]\n",
      " [0.81825419 0.18174581]\n",
      " [0.84979172 0.15020828]\n",
      " [0.66932824 0.33067176]\n",
      " [0.61697871 0.38302129]\n",
      " [0.93380027 0.06619973]\n",
      " [0.78179533 0.21820467]\n",
      " [0.66932824 0.33067176]\n",
      " [0.94051976 0.05948024]\n",
      " [0.20579    0.79421   ]\n",
      " [0.71779552 0.28220448]\n",
      " [0.71779552 0.28220448]\n",
      " [0.39248612 0.60751388]\n",
      " [0.56176775 0.43823225]\n",
      " [0.39248612 0.60751388]\n",
      " [0.90920609 0.09079391]\n",
      " [0.33955491 0.66044509]\n",
      " [0.84979172 0.15020828]\n",
      " [0.8346249  0.1653751 ]\n",
      " [0.66932824 0.33067176]\n",
      " [0.78179533 0.21820467]\n",
      " [0.9263811  0.0736189 ]\n",
      " [0.66932824 0.33067176]\n",
      " [0.17095188 0.82904812]\n",
      " [0.66932824 0.33067176]\n",
      " [0.89932775 0.10067225]\n",
      " [0.9465962  0.0534038 ]\n",
      " [0.91820329 0.08179671]\n",
      " [0.74034358 0.25965642]\n",
      " [0.80064999 0.19935001]\n",
      " [0.33955491 0.66044509]\n",
      " [0.86379456 0.13620544]\n",
      " [0.56176775 0.43823225]\n",
      " [0.86379456 0.13620544]\n",
      " [0.71779552 0.28220448]\n",
      " [0.50498359 0.49501641]\n",
      " [0.86379456 0.13620544]\n",
      " [0.66932824 0.33067176]\n",
      " [0.26739396 0.73260604]\n",
      " [0.87668145 0.12331855]\n",
      " [0.33955491 0.66044509]\n",
      " [0.17095188 0.82904812]\n",
      " [0.74034358 0.25965642]\n",
      " [0.71779552 0.28220448]\n",
      " [0.74034358 0.25965642]\n",
      " [0.14096469 0.85903531]\n",
      " [0.44807058 0.55192942]\n",
      " [0.8346249  0.1653751 ]\n",
      " [0.87668145 0.12331855]\n",
      " [0.33955491 0.66044509]\n",
      " [0.90920609 0.09079391]\n",
      " [0.78179533 0.21820467]\n",
      " [0.12769408 0.87230592]\n",
      " [0.94051976 0.05948024]\n",
      " [0.69409847 0.30590153]\n",
      " [0.94051976 0.05948024]\n",
      " [0.12769408 0.87230592]\n",
      " [0.89932775 0.10067225]\n",
      " [0.86379456 0.13620544]\n",
      " [0.58965557 0.41034443]\n",
      " [0.53348412 0.46651588]\n",
      " [0.78179533 0.21820467]\n",
      " [0.71779552 0.28220448]\n",
      " [0.91820329 0.08179671]\n",
      " [0.44807058 0.55192942]\n",
      " [0.86379456 0.13620544]\n",
      " [0.9465962  0.0534038 ]\n",
      " [0.53348412 0.46651588]\n",
      " [0.58965557 0.41034443]\n",
      " [0.24562433 0.75437567]\n",
      " [0.39248612 0.60751388]\n",
      " [0.15536881 0.84463119]\n",
      " [0.14096469 0.85903531]\n",
      " [0.89932775 0.10067225]\n",
      " [0.87668145 0.12331855]\n",
      " [0.15536881 0.84463119]\n",
      " [0.53348412 0.46651588]\n",
      " [0.58965557 0.41034443]\n",
      " [0.14096469 0.85903531]\n",
      " [0.42002479 0.57997521]\n",
      " [0.56176775 0.43823225]\n",
      " [0.53348412 0.46651588]\n",
      " [0.66932824 0.33067176]\n",
      " [0.90920609 0.09079391]\n",
      " [0.88850644 0.11149356]\n",
      " [0.89932775 0.10067225]\n",
      " [0.86379456 0.13620544]\n",
      " [0.90920609 0.09079391]\n",
      " [0.36561478 0.63438522]\n",
      " [0.36561478 0.63438522]\n",
      " [0.53348412 0.46651588]]\n"
     ]
    }
   ],
   "source": [
    "print('The probability estimates are: \\n', model.predict_proba(x_test))  ## Those with probability>0.5 are classified as '0' otherwise '1'"
   ]
  },
  {
   "cell_type": "markdown",
   "id": "88f2631f",
   "metadata": {
    "papermill": {
     "duration": 0.046264,
     "end_time": "2022-01-13T10:52:19.864875",
     "exception": false,
     "start_time": "2022-01-13T10:52:19.818611",
     "status": "completed"
    },
    "tags": []
   },
   "source": [
    "# 13. Model Evaluation"
   ]
  },
  {
   "cell_type": "markdown",
   "id": "a58ccfe1",
   "metadata": {
    "papermill": {
     "duration": 0.044195,
     "end_time": "2022-01-13T10:52:19.954350",
     "exception": false,
     "start_time": "2022-01-13T10:52:19.910155",
     "status": "completed"
    },
    "tags": []
   },
   "source": [
    "## 13.1 Confusion Matrix for a binary classifier"
   ]
  },
  {
   "cell_type": "markdown",
   "id": "a82abe03",
   "metadata": {
    "papermill": {
     "duration": 0.044425,
     "end_time": "2022-01-13T10:52:20.042876",
     "exception": false,
     "start_time": "2022-01-13T10:52:19.998451",
     "status": "completed"
    },
    "tags": []
   },
   "source": [
    "> ##### *It is a summary of prediction results on a classification problem.*\n",
    "> ##### *The number of correct and incorrect predictions are summarized with count values and broken down by each class. This is the key to the confusion matrix.*\n",
    "> ##### *It gives you insight not only into the errors being made by your classifier but more importantly the types of errors that are being made.*\n",
    "> ##### *It is this breakdown that overcomes the limitation of using classification accuracy alone.*"
   ]
  },
  {
   "cell_type": "code",
   "execution_count": 19,
   "id": "2903aec0",
   "metadata": {
    "execution": {
     "iopub.execute_input": "2022-01-13T10:52:20.134761Z",
     "iopub.status.busy": "2022-01-13T10:52:20.133743Z",
     "iopub.status.idle": "2022-01-13T10:52:20.143756Z",
     "shell.execute_reply": "2022-01-13T10:52:20.143234Z",
     "shell.execute_reply.started": "2022-01-13T10:46:16.614816Z"
    },
    "papermill": {
     "duration": 0.057244,
     "end_time": "2022-01-13T10:52:20.143904",
     "exception": false,
     "start_time": "2022-01-13T10:52:20.086660",
     "status": "completed"
    },
    "tags": []
   },
   "outputs": [
    {
     "data": {
      "text/plain": [
       "array([[66,  2],\n",
       "       [ 9, 23]])"
      ]
     },
     "execution_count": 19,
     "metadata": {},
     "output_type": "execute_result"
    }
   ],
   "source": [
    "from sklearn import metrics\n",
    "from sklearn.metrics import confusion_matrix\n",
    "cnf_matrix = metrics.confusion_matrix(y_test, y_predicted)\n",
    "cnf_matrix"
   ]
  },
  {
   "cell_type": "code",
   "execution_count": 20,
   "id": "8bb37383",
   "metadata": {
    "execution": {
     "iopub.execute_input": "2022-01-13T10:52:20.262087Z",
     "iopub.status.busy": "2022-01-13T10:52:20.260541Z",
     "iopub.status.idle": "2022-01-13T10:52:20.505029Z",
     "shell.execute_reply": "2022-01-13T10:52:20.504203Z",
     "shell.execute_reply.started": "2022-01-13T10:46:16.626986Z"
    },
    "papermill": {
     "duration": 0.316192,
     "end_time": "2022-01-13T10:52:20.505180",
     "exception": false,
     "start_time": "2022-01-13T10:52:20.188988",
     "status": "completed"
    },
    "tags": []
   },
   "outputs": [
    {
     "data": {
      "text/plain": [
       "Text(51.0, 0.5, 'Actual label')"
      ]
     },
     "execution_count": 20,
     "metadata": {},
     "output_type": "execute_result"
    },
    {
     "data": {
      "image/png": "[encoded data removed]",
      "text/plain": [
       "<Figure size 576x432 with 2 Axes>"
      ]
     },
     "metadata": {},
     "output_type": "display_data"
    }
   ],
   "source": [
    "plt.figure(figsize = (8,6))\n",
    "sns.heatmap(cnf_matrix, annot=True,cmap='Oranges')\n",
    "plt.xlabel('Predicted label')\n",
    "plt.ylabel('Actual label')"
   ]
  },
  {
   "cell_type": "markdown",
   "id": "c9ef2b90",
   "metadata": {
    "papermill": {
     "duration": 0.045423,
     "end_time": "2022-01-13T10:52:20.596670",
     "exception": false,
     "start_time": "2022-01-13T10:52:20.551247",
     "status": "completed"
    },
    "tags": []
   },
   "source": [
    "#### *True Negatives(TN) = 66, True Positives(TP) = 23, False Negatives(FN) = 9, False Positives(FP) = 2*"
   ]
  },
  {
   "cell_type": "markdown",
   "id": "fd4d7be9",
   "metadata": {
    "papermill": {
     "duration": 0.045507,
     "end_time": "2022-01-13T10:52:20.688376",
     "exception": false,
     "start_time": "2022-01-13T10:52:20.642869",
     "status": "completed"
    },
    "tags": []
   },
   "source": [
    "## 13.2 Classification Accuracy"
   ]
  },
  {
   "cell_type": "markdown",
   "id": "32ff915c",
   "metadata": {
    "papermill": {
     "duration": 0.049036,
     "end_time": "2022-01-13T10:52:20.783953",
     "exception": false,
     "start_time": "2022-01-13T10:52:20.734917",
     "status": "completed"
    },
    "tags": []
   },
   "source": [
    "> ##### *It can be defined as 'number of items in a class labeled correctly out of all items in that class'.*\n",
    "> ##### *The formula for Classification accuracy is (TP+TN)/(TP+TN+FP+FN)*"
   ]
  },
  {
   "cell_type": "code",
   "execution_count": 21,
   "id": "cdba9c78",
   "metadata": {
    "execution": {
     "iopub.execute_input": "2022-01-13T10:52:20.879613Z",
     "iopub.status.busy": "2022-01-13T10:52:20.878937Z",
     "iopub.status.idle": "2022-01-13T10:52:20.885421Z",
     "shell.execute_reply": "2022-01-13T10:52:20.884366Z",
     "shell.execute_reply.started": "2022-01-13T10:46:16.978324Z"
    },
    "papermill": {
     "duration": 0.055389,
     "end_time": "2022-01-13T10:52:20.885641",
     "exception": false,
     "start_time": "2022-01-13T10:52:20.830252",
     "status": "completed"
    },
    "tags": []
   },
   "outputs": [
    {
     "name": "stdout",
     "output_type": "stream",
     "text": [
      "The percentage of correct predictions for the test data:  89.0\n"
     ]
    }
   ],
   "source": [
    "from sklearn.metrics import accuracy_score\n",
    "accuracy = metrics.accuracy_score(y_test, y_predicted)\n",
    "accuracy_percentage = accuracy * 100\n",
    "print('The percentage of correct predictions for the test data: ', accuracy_percentage)"
   ]
  },
  {
   "cell_type": "markdown",
   "id": "9fabebfa",
   "metadata": {
    "papermill": {
     "duration": 0.046238,
     "end_time": "2022-01-13T10:52:20.979874",
     "exception": false,
     "start_time": "2022-01-13T10:52:20.933636",
     "status": "completed"
    },
    "tags": []
   },
   "source": [
    "#### *When we have a class imbalance, accuracy can become an unreliable metric for measuring our performance. Hence we need other metrics.*"
   ]
  },
  {
   "cell_type": "markdown",
   "id": "ee3882d2",
   "metadata": {
    "papermill": {
     "duration": 0.045491,
     "end_time": "2022-01-13T10:52:21.070997",
     "exception": false,
     "start_time": "2022-01-13T10:52:21.025506",
     "status": "completed"
    },
    "tags": []
   },
   "source": [
    "## 13.3 Recall Score"
   ]
  },
  {
   "cell_type": "markdown",
   "id": "6c7aaad8",
   "metadata": {
    "papermill": {
     "duration": 0.045989,
     "end_time": "2022-01-13T10:52:21.162858",
     "exception": false,
     "start_time": "2022-01-13T10:52:21.116869",
     "status": "completed"
    },
    "tags": []
   },
   "source": [
    "> ##### *It can be defined as 'Out of all the items that are truly positive, how many were correctly classified as positive'.*\n",
    "> ##### *Or simply, how many positive items were 'recalled' from the dataset.*\n",
    "> ##### The formula for Recall Score is TP/(TP+FN)."
   ]
  },
  {
   "cell_type": "code",
   "execution_count": 22,
   "id": "d50c938c",
   "metadata": {
    "execution": {
     "iopub.execute_input": "2022-01-13T10:52:21.260925Z",
     "iopub.status.busy": "2022-01-13T10:52:21.259864Z",
     "iopub.status.idle": "2022-01-13T10:52:21.264030Z",
     "shell.execute_reply": "2022-01-13T10:52:21.264514Z",
     "shell.execute_reply.started": "2022-01-13T10:46:16.992544Z"
    },
    "papermill": {
     "duration": 0.056252,
     "end_time": "2022-01-13T10:52:21.264713",
     "exception": false,
     "start_time": "2022-01-13T10:52:21.208461",
     "status": "completed"
    },
    "tags": []
   },
   "outputs": [
    {
     "name": "stdout",
     "output_type": "stream",
     "text": [
      "Recall score:  0.72\n"
     ]
    }
   ],
   "source": [
    "from sklearn.metrics import recall_score\n",
    "recall = metrics.recall_score(y_test,y_predicted).round(2)\n",
    "print('Recall score: ', recall)"
   ]
  },
  {
   "cell_type": "markdown",
   "id": "c71c56e4",
   "metadata": {
    "papermill": {
     "duration": 0.046123,
     "end_time": "2022-01-13T10:52:21.357144",
     "exception": false,
     "start_time": "2022-01-13T10:52:21.311021",
     "status": "completed"
    },
    "tags": []
   },
   "source": [
    "## 13.4 Precision Score"
   ]
  },
  {
   "cell_type": "markdown",
   "id": "081c0900",
   "metadata": {
    "papermill": {
     "duration": 0.046316,
     "end_time": "2022-01-13T10:52:21.449728",
     "exception": false,
     "start_time": "2022-01-13T10:52:21.403412",
     "status": "completed"
    },
    "tags": []
   },
   "source": [
    "> ##### *It can be defined as 'Out of all the items labeled as positive, how many truly belong to the positive class'.*\n",
    "> ##### *The formula for Precision Score is TP/(TP+FP)*"
   ]
  },
  {
   "cell_type": "code",
   "execution_count": 23,
   "id": "e13478e8",
   "metadata": {
    "execution": {
     "iopub.execute_input": "2022-01-13T10:52:21.548338Z",
     "iopub.status.busy": "2022-01-13T10:52:21.547594Z",
     "iopub.status.idle": "2022-01-13T10:52:21.554263Z",
     "shell.execute_reply": "2022-01-13T10:52:21.554807Z",
     "shell.execute_reply.started": "2022-01-13T10:46:17.007213Z"
    },
    "papermill": {
     "duration": 0.05811,
     "end_time": "2022-01-13T10:52:21.554978",
     "exception": false,
     "start_time": "2022-01-13T10:52:21.496868",
     "status": "completed"
    },
    "tags": []
   },
   "outputs": [
    {
     "name": "stdout",
     "output_type": "stream",
     "text": [
      "Precision Score:  0.92\n"
     ]
    }
   ],
   "source": [
    "from sklearn.metrics import precision_score\n",
    "precision = metrics.precision_score(y_test,y_predicted).round(2)\n",
    "print('Precision Score: ', precision)"
   ]
  },
  {
   "cell_type": "markdown",
   "id": "da973b63",
   "metadata": {
    "papermill": {
     "duration": 0.046487,
     "end_time": "2022-01-13T10:52:21.647827",
     "exception": false,
     "start_time": "2022-01-13T10:52:21.601340",
     "status": "completed"
    },
    "tags": []
   },
   "source": [
    "## 13.5 F1 Score"
   ]
  },
  {
   "cell_type": "markdown",
   "id": "ef880d0f",
   "metadata": {
    "papermill": {
     "duration": 0.047446,
     "end_time": "2022-01-13T10:52:21.742862",
     "exception": false,
     "start_time": "2022-01-13T10:52:21.695416",
     "status": "completed"
    },
    "tags": []
   },
   "source": [
    "> ##### *It is defined as the harmonic mean between precision and recall.*\n",
    "> ##### *An F1 score reaches its best value at 1 and worst value at 0. A low F1 score is an indication of both poor precision and poor recall.*\n",
    "> ##### *The formula for F1 Score is TP / (TP + 0.5 x (FP + FN))*"
   ]
  },
  {
   "cell_type": "code",
   "execution_count": 24,
   "id": "62e436f3",
   "metadata": {
    "execution": {
     "iopub.execute_input": "2022-01-13T10:52:21.846876Z",
     "iopub.status.busy": "2022-01-13T10:52:21.845957Z",
     "iopub.status.idle": "2022-01-13T10:52:21.849159Z",
     "shell.execute_reply": "2022-01-13T10:52:21.849641Z",
     "shell.execute_reply.started": "2022-01-13T10:46:17.030640Z"
    },
    "papermill": {
     "duration": 0.058557,
     "end_time": "2022-01-13T10:52:21.849828",
     "exception": false,
     "start_time": "2022-01-13T10:52:21.791271",
     "status": "completed"
    },
    "tags": []
   },
   "outputs": [
    {
     "name": "stdout",
     "output_type": "stream",
     "text": [
      "F1 score:  0.81\n"
     ]
    }
   ],
   "source": [
    "from sklearn.metrics import f1_score\n",
    "f1_score = metrics.f1_score(y_test,y_predicted).round(2)\n",
    "print('F1 score: ', f1_score)"
   ]
  },
  {
   "cell_type": "markdown",
   "id": "ebd70e6d",
   "metadata": {
    "papermill": {
     "duration": 0.046688,
     "end_time": "2022-01-13T10:52:21.943571",
     "exception": false,
     "start_time": "2022-01-13T10:52:21.896883",
     "status": "completed"
    },
    "tags": []
   },
   "source": [
    "## 13.6 Classification Report"
   ]
  },
  {
   "cell_type": "markdown",
   "id": "babcacce",
   "metadata": {
    "papermill": {
     "duration": 0.046756,
     "end_time": "2022-01-13T10:52:22.039021",
     "exception": false,
     "start_time": "2022-01-13T10:52:21.992265",
     "status": "completed"
    },
    "tags": []
   },
   "source": [
    "> ##### *Finally, using the classification_report, we can find the values of various metrics of our confusion matrix.*"
   ]
  },
  {
   "cell_type": "code",
   "execution_count": 25,
   "id": "bcc15597",
   "metadata": {
    "execution": {
     "iopub.execute_input": "2022-01-13T10:52:22.139848Z",
     "iopub.status.busy": "2022-01-13T10:52:22.139131Z",
     "iopub.status.idle": "2022-01-13T10:52:22.145932Z",
     "shell.execute_reply": "2022-01-13T10:52:22.146535Z",
     "shell.execute_reply.started": "2022-01-13T10:46:17.042496Z"
    },
    "papermill": {
     "duration": 0.059975,
     "end_time": "2022-01-13T10:52:22.146836",
     "exception": false,
     "start_time": "2022-01-13T10:52:22.086861",
     "status": "completed"
    },
    "tags": []
   },
   "outputs": [
    {
     "name": "stdout",
     "output_type": "stream",
     "text": [
      "Classification Report: \n",
      "               precision    recall  f1-score   support\n",
      "\n",
      "           0       0.88      0.97      0.92        68\n",
      "           1       0.92      0.72      0.81        32\n",
      "\n",
      "    accuracy                           0.89       100\n",
      "   macro avg       0.90      0.84      0.87       100\n",
      "weighted avg       0.89      0.89      0.89       100\n",
      "\n"
     ]
    }
   ],
   "source": [
    "from sklearn.metrics import classification_report\n",
    "cl_report = metrics.classification_report(y_test,y_predicted)\n",
    "print('Classification Report: \\n', cl_report)"
   ]
  }
 ],
 "metadata": {
  "kernelspec": {
   "display_name": "Python 3 (ipykernel)",
   "language": "python",
   "name": "python3"
  },
  "language_info": {
   "codemirror_mode": {
    "name": "ipython",
    "version": 3
   },
   "file_extension": ".py",
   "mimetype": "text/x-python",
   "name": "python",
   "nbconvert_exporter": "python",
   "pygments_lexer": "ipython3",
   "version": "3.10.5"
  },
  "papermill": {
   "default_parameters": {},
   "duration": 23.326844,
   "end_time": "2022-01-13T10:52:23.187127",
   "environment_variables": {},
   "exception": null,
   "input_path": "__notebook__.ipynb",
   "output_path": "__notebook__.ipynb",
   "parameters": {},
   "start_time": "2022-01-13T10:51:59.860283",
   "version": "2.3.3"
  }
 },
 "nbformat": 4,
 "nbformat_minor": 5
}
