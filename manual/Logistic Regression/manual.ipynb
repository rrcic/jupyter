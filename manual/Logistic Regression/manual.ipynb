{
 "cells": [
  {
   "cell_type": "markdown",
   "id": "6f98f688-fa48-422c-9b11-70cc98801fe3",
   "metadata": {},
   "source": [
    "# <u>Logistic Regression</u>\n",
    "## Part 1 - Principles\n",
    "#### 1. Definition\n",
    "Logistic Regression is a classification model that uses input variables (features) to predict a categorical outcome variable that can take on one of a limited set of class values. A binomial logistic regression is limited to two binary output categories, while a multinomial logistic regression allows for more than two classes. Examples of logistic regression include classifying a binary condition as 'true'/'false', or an image as 'bicycle'/'train'/'car'. If you have studied Linear Regression, you will know Linear Regression is used to determine/predict the continuous value of a dependent variable, and hence it is a regression algorithm. Instead, Logistic Regression is generally used as a classification algorithm.\n",
    "\n",
    "\n",
    "#### 2. Logistic Function\n",
    "An explanation of Logistic Regression can begin with an explanation of the standard logistic function. The logistic function is a sigmoid function, which takes any real input ***t***, and outputs a value between zero and one. \n",
    "\n",
    "The standard logistic function **σ** : R -> (0, 1) is defined as $σ(t) = \\frac{1}{1+e^{-t}}$\n",
    "\n",
    "In fact, Logical Regression is the combination of linear regression and logical function. Let us assume that ***t*** is a linear function of a single explanatory variable ***x***. We can express ***t*** as $t = \\beta_0+\\beta_1x$. And the general logistic function **p** can now be writtern as follows:\n",
    "\n",
    "$$p(x) = σ(t) = \\frac{1}{1+e^{-\\beta_0+\\beta_1x}}$$\n",
    "\n",
    "\n",
    "#### 3. Maximum Likelihood Estimation\n",
    "Linear Regression uses the Ordinary Least Squares (OLE) method to select its best fit line. Instead, Logistic Regression uses Maximum Likelihood Estimation(MLE) to select the best fit line. In other words, the regression coefficients ***β<sub>0</sub>*** and ***β<sub>1</sub>*** are usually estimated using Maximum Likelihood Estimation. You can find more details about MLE on the Web, we won't explore it here.\n",
    "\n",
    "\n",
    "\n",
    "## Part 2 - Code Implementation\n",
    "> NOTE: The complete code can be found in *code.ipynb*\n",
    "#### 1. Import the Relevant Libraries"
   ]
  },
  {
   "cell_type": "code",
   "execution_count": null,
   "id": "fa05e134",
   "metadata": {
    "_cell_guid": "b1076dfc-b9ad-4769-8c92-a6c4dae69d19",
    "_uuid": "8f2839f25d086af736a60e9eeb907d3b93b6e0e5",
    "papermill": {
     "duration": 1.448971,
     "end_time": "2022-01-13T10:52:11.985870",
     "exception": false,
     "start_time": "2022-01-13T10:52:10.536899",
     "status": "completed"
    },
    "tags": []
   },
   "outputs": [],
   "source": [
    "import seaborn as sns\n",
    "from matplotlib import pyplot as plt\n",
    "from sklearn.linear_model import LogisticRegression\n",
    "from sklearn.datasets import load_breast_cancer\n",
    "from sklearn.model_selection import train_test_split\n",
    "from sklearn.metrics import confusion_matrix, classification_report"
   ]
  },
  {
   "cell_type": "markdown",
   "id": "b231793e",
   "metadata": {
    "papermill": {
     "duration": 0.036511,
     "end_time": "2022-01-13T10:52:12.060308",
     "exception": false,
     "start_time": "2022-01-13T10:52:12.023797",
     "status": "completed"
    },
    "tags": []
   },
   "source": [
    "#### 2. Load the Dataset"
   ]
  },
  {
   "cell_type": "code",
   "execution_count": null,
   "id": "b2ebfdd7",
   "metadata": {
    "papermill": {
     "duration": 0.063314,
     "end_time": "2022-01-13T10:52:12.159838",
     "exception": false,
     "start_time": "2022-01-13T10:52:12.096524",
     "status": "completed"
    },
    "tags": []
   },
   "outputs": [],
   "source": [
    "breast_cancer = load_breast_cancer()\n",
    "\n",
    "# return_X_y=True: the X and y variables will be converted to a dataframe and series respectively\n",
    "# as_frame=True: the X and y variables will be presented in a pandas dataframe\n",
    "X, y = load_breast_cancer(return_X_y=True, as_frame=True)"
   ]
  },
  {
   "cell_type": "markdown",
   "id": "e7d1ae18",
   "metadata": {
    "papermill": {
     "duration": 0.035674,
     "end_time": "2022-01-13T10:52:12.231730",
     "exception": false,
     "start_time": "2022-01-13T10:52:12.196056",
     "status": "completed"
    },
    "tags": []
   },
   "source": [
    "#### 3. Explore the Dataset\n",
    "The breast cancer dataset is a classic and easy binary classification dataset. The key challenges against it’s detection is how to classify tumors into malignant (cancerous) or benign(non cancerous).\n",
    "##### 3.1 displays the top 5 rows of the X"
   ]
  },
  {
   "cell_type": "code",
   "execution_count": null,
   "id": "96ae2b94",
   "metadata": {
    "papermill": {
     "duration": 0.05962,
     "end_time": "2022-01-13T10:52:12.327546",
     "exception": false,
     "start_time": "2022-01-13T10:52:12.267926",
     "status": "completed"
    },
    "tags": []
   },
   "outputs": [],
   "source": [
    "X.head()"
   ]
  },
  {
   "cell_type": "markdown",
   "id": "60596fb1-a02a-456a-bc7b-75b31bdf7074",
   "metadata": {},
   "source": [
    "##### 3.2 provides some information regarding the columns in the data"
   ]
  },
  {
   "cell_type": "code",
   "execution_count": null,
   "id": "49f96530-88a5-4dad-a847-4270e72756db",
   "metadata": {},
   "outputs": [],
   "source": [
    "y.info()"
   ]
  },
  {
   "cell_type": "markdown",
   "id": "5597fa80",
   "metadata": {
    "papermill": {
     "duration": 0.041653,
     "end_time": "2022-01-13T10:52:18.904086",
     "exception": false,
     "start_time": "2022-01-13T10:52:18.862433",
     "status": "completed"
    },
    "tags": []
   },
   "source": [
    "#### 4. Split the dataset into train and test data"
   ]
  },
  {
   "cell_type": "code",
   "execution_count": null,
   "id": "7f1039d0",
   "metadata": {
    "papermill": {
     "duration": 0.053557,
     "end_time": "2022-01-13T10:52:19.091572",
     "exception": false,
     "start_time": "2022-01-13T10:52:19.038015",
     "status": "completed"
    },
    "tags": []
   },
   "outputs": [],
   "source": [
    "X_train, X_test, y_train, y_test = train_test_split(X, y, test_size = 0.20, random_state = 0)"
   ]
  },
  {
   "cell_type": "markdown",
   "id": "3d8b5589",
   "metadata": {
    "papermill": {
     "duration": 0.042387,
     "end_time": "2022-01-13T10:52:19.365147",
     "exception": false,
     "start_time": "2022-01-13T10:52:19.322760",
     "status": "completed"
    },
    "tags": []
   },
   "source": [
    "#### 5. Model Initialization"
   ]
  },
  {
   "cell_type": "code",
   "execution_count": null,
   "id": "3dfa153b",
   "metadata": {
    "papermill": {
     "duration": 0.056618,
     "end_time": "2022-01-13T10:52:19.464555",
     "exception": false,
     "start_time": "2022-01-13T10:52:19.407937",
     "status": "completed"
    },
    "tags": []
   },
   "outputs": [],
   "source": [
    "LR = LogisticRegression(max_iter = 2000)\n",
    "LR.fit(X_train, y_train)"
   ]
  },
  {
   "cell_type": "markdown",
   "id": "90886148",
   "metadata": {
    "papermill": {
     "duration": 0.042555,
     "end_time": "2022-01-13T10:52:19.550193",
     "exception": false,
     "start_time": "2022-01-13T10:52:19.507638",
     "status": "completed"
    },
    "tags": []
   },
   "source": [
    "#### 6. Predictions"
   ]
  },
  {
   "cell_type": "code",
   "execution_count": null,
   "id": "705d8669",
   "metadata": {
    "papermill": {
     "duration": 0.052683,
     "end_time": "2022-01-13T10:52:19.645961",
     "exception": false,
     "start_time": "2022-01-13T10:52:19.593278",
     "status": "completed"
    },
    "tags": []
   },
   "outputs": [],
   "source": [
    "y_pred = LR.predict(X_test)\n",
    "print('The Predicted values are: ', y_pred)"
   ]
  },
  {
   "cell_type": "markdown",
   "id": "88f2631f",
   "metadata": {
    "papermill": {
     "duration": 0.046264,
     "end_time": "2022-01-13T10:52:19.864875",
     "exception": false,
     "start_time": "2022-01-13T10:52:19.818611",
     "status": "completed"
    },
    "tags": []
   },
   "source": [
    "#### 7. Model Performance Evaluation\n",
    "##### 7.1 Confusion Matrix\n",
    "Confusion Matrix is a summary of prediction results on a classification problem. The number of correct and incorrect predictions are summarized with count values and broken down by each class. It gives you insight not only into the errors being made by your classifier but more importantly the types of errors that are being made.\n",
    "\n",
    "For this lab:\n",
    "- if classification '1' is positive: True Negatives(TN) = 46, True Positives(TP) = 62, False Negatives(FN) = 5, False Positives(FP) = 1\n",
    "- if classification '0' is positive: True Negatives(TN) = 62, True Positives(TP) = 46, False Negatives(FN) = 1, False Positives(FP) = 5"
   ]
  },
  {
   "cell_type": "code",
   "execution_count": null,
   "id": "c266f7b2-c97b-44cd-a936-173d36c7faff",
   "metadata": {},
   "outputs": [],
   "source": [
    "CM = confusion_matrix(y_test, y_pred)\n",
    "# visualization\n",
    "plt.figure(figsize = (8,6))\n",
    "sns.heatmap(CM, annot=True,cmap='Oranges')\n",
    "plt.xlabel('Predicted label')\n",
    "plt.ylabel('Actual label')\n",
    "plt.show()  "
   ]
  },
  {
   "cell_type": "markdown",
   "id": "ebd70e6d",
   "metadata": {
    "papermill": {
     "duration": 0.046688,
     "end_time": "2022-01-13T10:52:21.943571",
     "exception": false,
     "start_time": "2022-01-13T10:52:21.896883",
     "status": "completed"
    },
    "tags": []
   },
   "source": [
    "##### 7.2 Classification Report\n",
    "We can find the values of various metrics such as accuracy, precision, recall and f1-score using the classification_report.\n",
    "- ***accuracy***: number of items in a class labeled correctly out of all items in that class\n",
    "$$accuracy = (TP+TN) / (TP+TN+FP+FN)$$\n",
    "- ***precision***: out of all the items labeled as positive, how many truly belong to the positive class\n",
    "$$precision = TP/(TP+FP)$$\n",
    "- ***recall***: Out of all the items that are truly positive, how many were correctly classified as positive\n",
    "$$recall = TP / (TP+FN)$$\n",
    "- ***f1-score***: the harmonic mean between precision and recall\n",
    "$$f1-score = TP / (TP + 0.5 × (FP + FN))$$\n",
    "\n",
    "[Here](https://scikit-learn.org/stable/modules/generated/sklearn.metrics.classification_report.html) you can find the complete documentation for the classification_report() function."
   ]
  },
  {
   "cell_type": "code",
   "execution_count": null,
   "id": "bcc15597",
   "metadata": {
    "papermill": {
     "duration": 0.059975,
     "end_time": "2022-01-13T10:52:22.146836",
     "exception": false,
     "start_time": "2022-01-13T10:52:22.086861",
     "status": "completed"
    },
    "tags": []
   },
   "outputs": [],
   "source": [
    "CR = classification_report(y_test, y_pred)\n",
    "print('Classification Report is: \\n', CR)"
   ]
  },
  {
   "cell_type": "markdown",
   "id": "bc5051a5-f3db-434a-95c2-2cabc605f43f",
   "metadata": {},
   "source": [
    "## Part 3 - Practice\n",
    "Use Logistic Regression algorithm to analyze another dataset in sklearn: *iris*. It includes three iris species with 50 samples each as well as some properties about each flower. You are supposed to use 70% of dataset as training set and 30% as test set. Answer the following questions.\n",
    "1. Draw the confusion matrix and analyze the TN, TP, FN and FP of classification '2'.\n",
    "2. Explain how the precision, recall and f1-score of classification '1' are calculated.\n",
    "\n",
    "**HINT**: You can make use of the file *\"code.ipynb\"* and properly modify it to complete the practice."
   ]
  }
 ],
 "metadata": {
  "kernelspec": {
   "display_name": "Python 3",
   "language": "python",
   "name": "python3"
  },
  "language_info": {
   "codemirror_mode": {
    "name": "ipython",
    "version": 3
   },
   "file_extension": ".py",
   "mimetype": "text/x-python",
   "name": "python",
   "nbconvert_exporter": "python",
   "pygments_lexer": "ipython3",
   "version": "3.8.8"
  },
  "papermill": {
   "default_parameters": {},
   "duration": 23.326844,
   "end_time": "2022-01-13T10:52:23.187127",
   "environment_variables": {},
   "exception": null,
   "input_path": "__notebook__.ipynb",
   "output_path": "__notebook__.ipynb",
   "parameters": {},
   "start_time": "2022-01-13T10:51:59.860283",
   "version": "2.3.3"
  }
 },
 "nbformat": 4,
 "nbformat_minor": 5
}
