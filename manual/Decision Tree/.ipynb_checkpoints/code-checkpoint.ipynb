{
 "cells": [
  {
   "cell_type": "code",
   "execution_count": null,
   "id": "a09d4feb",
   "metadata": {},
   "outputs": [],
   "source": [
    "from sklearn import tree\n",
    "import pandas as pd\n",
    "\n",
    "def createDataSet():\n",
    "    dataSet = [[0, 0, 0, 0, 'no'],\n",
    "               [0, 0, 0, 1, 'no'],\n",
    "               [0, 1, 0, 1, 'yes'],\n",
    "               [0, 1, 1, 0, 'yes'],\n",
    "               [0, 0, 0, 0, 'no'],\n",
    "               [1, 0, 0, 0, 'no'],\n",
    "               [1, 0, 0, 1, 'no'],\n",
    "               [1, 1, 1, 1, 'yes'],\n",
    "               [1, 0, 1, 2, 'yes'],\n",
    "               [1, 0, 1, 2, 'yes'],\n",
    "               [2, 0, 1, 2, 'yes'],\n",
    "               [2, 0, 1, 1, 'yes'],\n",
    "               [2, 1, 0, 1, 'yes'],\n",
    "               [2, 1, 0, 2, 'yes'],\n",
    "               [2, 0, 0, 0, 'no']]\n",
    "    labels = ['age', 'haveWork', 'haveHouse', 'credit']\n",
    "    return dataSet, labels\n",
    "\n",
    "\n",
    "if __name__ == '__main__':\n",
    "    dataSet, Labels = createDataSet()\n",
    "    print(dataSet)\n",
    "    data_target = []  \n",
    "    for each in dataSet:\n",
    "        data_target.append(each[-1])\n",
    "    print(data_target)\n",
    "\n",
    "    data_list = []  \n",
    "    data_dict = {}  \n",
    "    for each_label in Labels:  \n",
    "        for each in dataSet:\n",
    "            data_list.append(each[Labels.index(each_label)])\n",
    "        data_dict[each_label] = data_list\n",
    "        data_list = []\n",
    "    print(data_dict)  \n",
    "    data_pd = pd.DataFrame(data_dict)\n",
    "    print(data_pd)  \n",
    "\n",
    "    clf = tree.DecisionTreeClassifier()  \n",
    "    clf = clf.fit(data_pd.values.tolist(), data_target) \n",
    "    \n",
    "    tree.plot_tree(clf,feature_names = Labels);\n",
    "\n",
    "    print(clf.predict([[1, 1, 1, 0]]))"
   ]
  }
 ],
 "metadata": {
  "kernelspec": {
   "display_name": "Python 3",
   "language": "python",
   "name": "python3"
  },
  "language_info": {
   "codemirror_mode": {
    "name": "ipython",
    "version": 3
   },
   "file_extension": ".py",
   "mimetype": "text/x-python",
   "name": "python",
   "nbconvert_exporter": "python",
   "pygments_lexer": "ipython3",
   "version": "3.8.8"
  }
 },
 "nbformat": 4,
 "nbformat_minor": 5
}
