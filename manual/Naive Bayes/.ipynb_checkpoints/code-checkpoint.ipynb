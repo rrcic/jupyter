{
 "cells": [
  {
   "cell_type": "code",
   "execution_count": null,
   "id": "31d0ea12-0a0a-43ff-a8da-d1ac27fb0f72",
   "metadata": {},
   "outputs": [],
   "source": [
    "from sklearn.datasets import load_iris     # from sklearn.datasets import load_breast_cancer\n",
    "from sklearn.naive_bayes import GaussianNB\n",
    "from sklearn.model_selection import train_test_split\n",
    "\n",
    "muNB = GaussianNB()\n",
    "# load the dataset and split the dataset into train and test data\n",
    "X, y = load_iris(return_X_y=True)\n",
    "X_train, X_test, y_train, y_test = train_test_split(X, y, test_size=0.2, random_state=0)\n",
    "\n",
    "# train the model and calculate the prediction accuracy\n",
    "muNB.fit(X_train, y_train)\n",
    "muNB.score(X_test, y_test)"
   ]
  }
 ],
 "metadata": {
  "kernelspec": {
   "display_name": "Python 3",
   "language": "python",
   "name": "python3"
  },
  "language_info": {
   "codemirror_mode": {
    "name": "ipython",
    "version": 3
   },
   "file_extension": ".py",
   "mimetype": "text/x-python",
   "name": "python",
   "nbconvert_exporter": "python",
   "pygments_lexer": "ipython3",
   "version": "3.8.8"
  }
 },
 "nbformat": 4,
 "nbformat_minor": 5
}
