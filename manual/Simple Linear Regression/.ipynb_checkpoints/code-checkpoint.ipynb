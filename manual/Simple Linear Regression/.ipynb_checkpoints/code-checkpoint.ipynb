{
 "cells": [
  {
   "cell_type": "code",
   "execution_count": null,
   "id": "24df62c0",
   "metadata": {},
   "outputs": [],
   "source": [
    "import pandas as pd\n",
    "import numpy as np\n",
    "import matplotlib.pyplot as plt\n",
    "from sklearn import linear_model\n",
    "from sklearn.model_selection import train_test_split\n",
    "from sklearn.metrics import mean_squared_error, r2_score\n",
    "\n",
    "data = pd.read_csv('datasets/Salary_Data.csv')\n",
    "X_train, X_test, y_train, y_test = train_test_split(data[['YearsExperience']], data['Salary'], test_size=0.20, random_state=0)\n",
    "\n",
    "SLR = linear_model.LinearRegression()\n",
    "SLR.fit(X_train.values, y_train)\n",
    "\n",
    "y_temp = SLR.predict([[9.5]])\n",
    "print('when YearsExperience=9.5, the predicted value of Salary is %f' %y_temp)\n",
    "y_pred = SLR.predict(X_test.values)\n",
    "print('The Predicted values in the test set are:', y_pred)\n",
    "\n",
    "\n",
    "data.plot.scatter(x='YearsExperience', y='Salary')\n",
    "plt.plot(X_test , y_pred, color=\"red\", linewidth=3)\n",
    "plt.show()\n",
    "\n",
    "RMSE = np.sqrt(mean_squared_error(y_test, y_pred))\n",
    "print('RMSE is: %.2f' %RMSE)\n",
    "R2_Score = r2_score(y_test, y_pred)\n",
    "print('R2 score is: %.2f' %R2_Score)"
   ]
  }
 ],
 "metadata": {
  "kernelspec": {
   "display_name": "Python 3",
   "language": "python",
   "name": "python3"
  },
  "language_info": {
   "codemirror_mode": {
    "name": "ipython",
    "version": 3
   },
   "file_extension": ".py",
   "mimetype": "text/x-python",
   "name": "python",
   "nbconvert_exporter": "python",
   "pygments_lexer": "ipython3",
   "version": "3.8.8"
  }
 },
 "nbformat": 4,
 "nbformat_minor": 5
}
