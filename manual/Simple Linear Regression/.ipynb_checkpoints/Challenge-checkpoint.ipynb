{
 "cells": [
  {
   "cell_type": "code",
   "execution_count": null,
   "id": "e9826a5e-5d7c-4882-9de5-6039dbd739b8",
   "metadata": {},
   "outputs": [],
   "source": [
    "import pandas as pd\n",
    "import matplotlib.pyplot as plt\n",
    "from sklearn import linear_model\n",
    "from sklearn.model_selection import train_test_split\n",
    "from sklearn.metrics import mean_squared_error, r2_score\n",
    "\n",
    "data = pd.read_csv('data.csv')\n",
    "X_train, X_test, y_train, y_test = train_test_split(data[['x']], data['y'], test_size=0.20, random_state=0)\n",
    "\n",
    "SLR = linear_model.LinearRegression()\n",
    "SLR.fit(X_train.values, y_train)\n",
    "\n",
    "y_temp = SLR.predict([[100]])\n",
    "print('when x=100, the predicted value of y is ', y_temp)\n",
    "y_pred = SLR.predict(X_test.values)\n",
    "print('The Predicted values in the test set are:', y_pred)\n",
    "\n",
    "data.plot.scatter(x='x', y='y')\n",
    "plt.plot(X_test, y_pred, color=\"red\", linewidth=3)\n",
    "plt.show()\n",
    "\n",
    "RMSE = np.sqrt(mean_squared_error(y_test, y_pred))\n",
    "print('RMSE is: %.2f' %RMSE)\n",
    "R2_Score = r2_score(y_test, y_pred)\n",
    "print('R2 score is: %.2f' %R2_Score)"
   ]
  }
 ],
 "metadata": {
  "kernelspec": {
   "display_name": "Python 3 (ipykernel)",
   "language": "python",
   "name": "python3"
  },
  "language_info": {
   "codemirror_mode": {
    "name": "ipython",
    "version": 3
   },
   "file_extension": ".py",
   "mimetype": "text/x-python",
   "name": "python",
   "nbconvert_exporter": "python",
   "pygments_lexer": "ipython3",
   "version": "3.10.5"
  }
 },
 "nbformat": 4,
 "nbformat_minor": 5
}
