{
 "cells": [
  {
   "cell_type": "markdown",
   "id": "a1190b56",
   "metadata": {},
   "source": [
    "# <u>Simple Linear Regression</u>\n",
    "## Part 1 - Principles\n",
    "#### 1. Definition\n",
    "\n",
    "Simple linear regression is a statistical method that allows us to summarize and study relationships between two continuous  variables. It concerns two-dimensional sample points with one independent variable and one dependent variable and finds a linear function (a non-vertical straight line) that, as accurately as possible, predicts the dependent variable values as a function of the independent variable. The adjective simple refers to the fact that the outcome variable is related to a single predictor.\n",
    "\n",
    "The formula for a simple linear regression is\n",
    "$y=β_1+β_2x$\n",
    "- **y** is the predicted value of the dependent variable (**y**) for any given value of the independent variable (**x**)\n",
    "- **β<sub>1</sub>** is the intercept, the predicted value of **y** when the **x** is 0\n",
    "- **β<sub>2</sub>** is the regression coefficient – how much we expect **y** to change as **x** increases\n",
    "- **x** is the independent variable\n",
    "\n",
    "#### 2. Least Squares\n",
    "The method of least squares is used to determine the line of best fit for a set of data. It helps us to find the optimal value of **β<sub>1</sub>** and **β<sub>2</sub>** . The method of least squares is a standard approach in regression analysis to approximate the solution of overdetermined systems (sets of equations in which there are more equations than unknowns) by minimizing the sum of the squares of the residuals made in the results of each individual equation.\n",
    "\n",
    "\n",
    "[Here](https://en.wikipedia.org/wiki/Linear_least_squares#Example) you can learn about the principle of the least square method.\n",
    "\n",
    "## Part 2 - Code Implementation\n",
    "> NOTE: The complete code can be found in *code.ipynb*\n",
    "#### 1. Import the Relevant Libraries"
   ]
  },
  {
   "cell_type": "code",
   "execution_count": null,
   "id": "27232050",
   "metadata": {
    "tags": []
   },
   "outputs": [],
   "source": [
    "import pandas as pd\n",
    "import matplotlib.pyplot as plt\n",
    "import numpy as np\n",
    "from sklearn import linear_model\n",
    "from sklearn.model_selection import train_test_split\n",
    "from sklearn.metrics import mean_squared_error, r2_score"
   ]
  },
  {
   "cell_type": "markdown",
   "id": "52334c56-9ff4-4a4a-9887-8e775034684b",
   "metadata": {},
   "source": [
    "#### 2. Load the Dataset"
   ]
  },
  {
   "cell_type": "code",
   "execution_count": null,
   "id": "4e8ed846-7fd1-4439-ae3d-f26c032e2bbf",
   "metadata": {},
   "outputs": [],
   "source": [
    "data = pd.read_csv('datasets/Salary_Data.csv')"
   ]
  },
  {
   "cell_type": "markdown",
   "id": "0c70f086-777b-4cc5-a6fb-2ab3ea1c5e25",
   "metadata": {},
   "source": [
    "#### 3. Explore the Dataset\n",
    "The dataset describes the relationship between salary and work experience.\n",
    "##### 3.1 displays the top 5 rows of the data"
   ]
  },
  {
   "cell_type": "code",
   "execution_count": null,
   "id": "5c6538bc-e9ae-4979-af62-34aaf93eafa2",
   "metadata": {},
   "outputs": [],
   "source": [
    "data.head()"
   ]
  },
  {
   "cell_type": "markdown",
   "id": "90274ce4-83ba-4250-9acf-6196e1c84bd4",
   "metadata": {},
   "source": [
    "##### 3.2 provides some information regarding the columns in the data"
   ]
  },
  {
   "cell_type": "code",
   "execution_count": null,
   "id": "153557f5-26ca-4115-b693-f5f9e05d6121",
   "metadata": {},
   "outputs": [],
   "source": [
    "data.info()"
   ]
  },
  {
   "cell_type": "markdown",
   "id": "33b03c42-37cf-4403-b66b-c7eafd4f9f7f",
   "metadata": {},
   "source": [
    "#### 4. Split the dataset into train and test data"
   ]
  },
  {
   "cell_type": "code",
   "execution_count": null,
   "id": "eba7d018-3d2f-468a-bfaf-57ea897056b3",
   "metadata": {},
   "outputs": [],
   "source": [
    "X_train, X_test, y_train, y_test = train_test_split(data[['YearsExperience']], data['Salary'], test_size=0.20, random_state=0)\n",
    "print('data.shape is ', data.shape)\n",
    "print('X_train.shape is ', X_train.shape)\n",
    "print('X_test.shape is ', X_test.shape)"
   ]
  },
  {
   "cell_type": "markdown",
   "id": "19c2d164",
   "metadata": {},
   "source": [
    "#### 5. Model Initialization"
   ]
  },
  {
   "cell_type": "code",
   "execution_count": null,
   "id": "ff69e4b8",
   "metadata": {},
   "outputs": [],
   "source": [
    "SLR = linear_model.LinearRegression()\n",
    "SLR.fit(X_train.values, y_train)"
   ]
  },
  {
   "cell_type": "markdown",
   "id": "c61e1573-134c-4732-9eef-a3094eebf49a",
   "metadata": {},
   "source": [
    "#### 6. Predictions\n",
    "##### 6.1 use the trained model to predict the Y value corresponding to a certain X value（sklearn requires that X must be a two-dimensional array). "
   ]
  },
  {
   "cell_type": "code",
   "execution_count": null,
   "id": "260805f1-e381-4cec-ae2a-44608832ce45",
   "metadata": {},
   "outputs": [],
   "source": [
    "y_temp = SLR.predict([[9.5]])\n",
    "print('when YearsExperience=9.5, the predicted value of Salary is %f' %y_temp)"
   ]
  },
  {
   "cell_type": "markdown",
   "id": "624785ce-cc53-47e4-b3a9-168d2ee130ee",
   "metadata": {},
   "source": [
    "##### 6.2 use the trained model to predict the Y value in the test set"
   ]
  },
  {
   "cell_type": "code",
   "execution_count": null,
   "id": "a170bb29-ebac-44d9-bdf1-63ca21974053",
   "metadata": {},
   "outputs": [],
   "source": [
    "y_pred = SLR.predict(X_test.values)\n",
    "print('The Predicted values in the test set are:', y_pred)"
   ]
  },
  {
   "cell_type": "markdown",
   "id": "0e1293e0-5e54-4ae8-89a2-421d2ed291fc",
   "metadata": {},
   "source": [
    "#### 7. Plot the actual and predicted values"
   ]
  },
  {
   "cell_type": "code",
   "execution_count": null,
   "id": "db6b1fad-795c-49be-8414-fc65a67b662b",
   "metadata": {},
   "outputs": [],
   "source": [
    "# scatter diagram of actual values\n",
    "data.plot.scatter(x='YearsExperience', y='Salary')\n",
    "# straight line diagram of predicted value\n",
    "plt.plot(X_test , y_pred, color=\"red\", linewidth=3)\n",
    "plt.show()"
   ]
  },
  {
   "cell_type": "markdown",
   "id": "3e229159",
   "metadata": {},
   "source": [
    "#### 8. Model Performance Evaluation\n",
    "RMSE and R2 score are metrics for assessing the performance of regression machine learning models.\n",
    "##### 8.1 RMSE\n",
    "Root Mean Squared Error (RMSE) is a measure of how accurate the predictions are. It's the square root of the mean squared error between the predicted and actual values. \n",
    "\n",
    "The closer RMSE is to 0, the more accurate the model is. But RMSE is returned on the same scale as the target you are predicting for and therefore there isn’t a general rule for what is considered a ‘good’ value. How good your metric value is can only be evaluated within the dataset context you are working. An RMSE of 1,000 for a house price prediction model is most likely seen as good because house prices tend to be over $100,000. However, the same RMSE of 1,000 for a height prediction model is terrible as the average height is around 175cm."
   ]
  },
  {
   "cell_type": "code",
   "execution_count": null,
   "id": "fbecbb1d-9a08-45a9-b212-d80e27af1e1d",
   "metadata": {},
   "outputs": [],
   "source": [
    "RMSE = np.sqrt(mean_squared_error(y_test, y_pred))\n",
    "print('RMSE is: %.2f' %RMSE)"
   ]
  },
  {
   "cell_type": "markdown",
   "id": "1a7a65b6-1a1c-4fcc-be87-98e7dba5df71",
   "metadata": {},
   "source": [
    "##### 8.2 R2 Score\n",
    "R-Squared (R2) is a measure of fit and it gives an indication as to how much of the variation is explained by the independent variables in the model.\n",
    "\n",
    "The R2 score ranges from 1, a perfect score, to negative values for under-performing models. A score of 1 is the perfect score and indicates that all the variance is explained by the independent variables"
   ]
  },
  {
   "cell_type": "code",
   "execution_count": null,
   "id": "db2c0f4a",
   "metadata": {},
   "outputs": [],
   "source": [
    "R2_Score = r2_score(y_test, y_pred)\n",
    "print('R2 score is: %.2f' %R2_Score)"
   ]
  },
  {
   "cell_type": "markdown",
   "id": "a571b27b",
   "metadata": {},
   "source": [
    "## Part 3 - Practice\n",
    "Use Simple Linear Regression algorithm to analyze the dataset ***data.csv***. The values of X and Y in this dataset are randomly generated according to some rule. Answer the following questions:\n",
    "\n",
    "1. When x = 100, what is the predicted value y?\n",
    "2. Draw a scatter diagram composed of all data in the dataset and a straight line diagram of the prediction model.\n",
    "3. What is the RMSE value and R2 score value of the prediction model? Please analyze the accuracy and fit of the model according to these two values.\n",
    "\n",
    "**HINT**: You can make use of the file *\"code.ipynb\"* and properly modify it to complete the practice."
   ]
  }
 ],
 "metadata": {
  "kernelspec": {
   "display_name": "Python 3",
   "language": "python",
   "name": "python3"
  },
  "language_info": {
   "codemirror_mode": {
    "name": "ipython",
    "version": 3
   },
   "file_extension": ".py",
   "mimetype": "text/x-python",
   "name": "python",
   "nbconvert_exporter": "python",
   "pygments_lexer": "ipython3",
   "version": "3.8.8"
  }
 },
 "nbformat": 4,
 "nbformat_minor": 5
}
