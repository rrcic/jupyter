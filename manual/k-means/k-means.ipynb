{
 "cells": [
  {
   "cell_type": "markdown",
   "id": "09dbfc5d-f6bb-489b-9df5-c339889f476a",
   "metadata": {
    "tags": []
   },
   "source": [
    "# k-means"
   ]
  },
  {
   "cell_type": "markdown",
   "id": "6d699113-eae4-493b-ab96-17fdbb473ad5",
   "metadata": {
    "tags": []
   },
   "source": [
    "## Theory\n",
    "\n",
    "K-means is an unsupervised machine learning technique used to identify clusters of data objects in a dataset. A point is considered to be in a particular cluster if it closer to that cluster’s centroid than any other centroid.\n",
    "\n",
    "K-means requires only a few steps. The first step is to randomly select k centroids, where k is equal to the number of clusters you choose. Centroids are data points representing the center of a cluster.\n",
    "\n",
    "The second steps called expectation-maximization. The expectation step assigns each data point to its nearest centroid. Then, the maximization step computes the mean of all the points for each cluster and sets the new centroid. Here’s the k-means algorithm looks like:\n",
    "\n",
    "The quality of the cluster assignments is determined by computing the sum of the squared error (SSE) after the centroids converge, or match the previous iteration’s assignment. The SSE is defined as the sum of the squared Euclidean distances of each point to its closest centroid. Since this is a measure of error, the objective of k-means is to try to minimize this value.\n",
    "K-means can be described as follows: \n",
    "![image-20220805215753376](https://s2.loli.net/2022/08/05/Zj5dtoNVwEJ3xqU.png)\n",
    "\n",
    "1. Specify the number k of clusters to assign.\n",
    "2. Randomly initialize k centroids.\n",
    "3. Repect\n",
    "   - Assign each point to its closet centroid.\n",
    "   - Compute the new centroid(mean) of each cluster.\n",
    "4. Until The centroid position do not change"
   ]
  },
  {
   "cell_type": "markdown",
   "id": "6babb378-b5d1-4283-8541-607652247558",
   "metadata": {},
   "source": [
    "## Implement"
   ]
  },
  {
   "cell_type": "markdown",
   "id": "ac190404-8e3c-4b07-93bf-fb3c6a998372",
   "metadata": {
    "tags": []
   },
   "source": [
    "### Import Packages And Dataset"
   ]
  },
  {
   "cell_type": "code",
   "execution_count": null,
   "id": "1f23fa6c-124e-48c5-8ae3-f843d607477b",
   "metadata": {},
   "outputs": [],
   "source": [
    "import matplotlib.pyplot as plt\n",
    "import numpy as np\n",
    "from sklearn.cluster import KMeans         \n",
    "# from sklearn import datasets\n",
    "from sklearn.datasets import load_iris    "
   ]
  },
  {
   "cell_type": "code",
   "execution_count": null,
   "id": "851962af-d4f7-4987-84af-98f243519aab",
   "metadata": {},
   "outputs": [],
   "source": [
    "iris = load_iris()\n",
    "# Take the last two dimensions in the feature\n",
    "X = iris.data[:,2:]\n",
    "# drawer\n",
    "plt.scatter(X[:, 0], X[:, 1], c = \"blue\", marker='+', label='label')\n",
    "plt.xlabel('petal length')\n",
    "plt.ylabel('petal width')\n",
    "plt.legend(loc=2)\n",
    "plt.show()"
   ]
  },
  {
   "cell_type": "markdown",
   "id": "63aababb-5899-4eaa-99aa-d4789a5b363d",
   "metadata": {
    "tags": []
   },
   "source": [
    "### Start process "
   ]
  },
  {
   "cell_type": "code",
   "execution_count": null,
   "id": "1269d0a4-c1cf-4df0-bed8-9dd27959c0eb",
   "metadata": {},
   "outputs": [],
   "source": [
    "estimator = KMeans(n_clusters=3)       \n",
    "estimator.fit(X)                       \n",
    "label_pred = estimator.labels_   "
   ]
  },
  {
   "cell_type": "markdown",
   "id": "d086cfd9-63aa-4ab6-af6f-78b20ff80c2e",
   "metadata": {
    "tags": []
   },
   "source": [
    "### Visualization"
   ]
  },
  {
   "cell_type": "code",
   "execution_count": null,
   "id": "c929c157-7c63-4c37-bab6-b0258a0a0f49",
   "metadata": {},
   "outputs": [],
   "source": [
    "x0 = X[label_pred == 0]\n",
    "x1 = X[label_pred == 1]\n",
    "x2 = X[label_pred == 2]\n",
    "plt.scatter(x0[:, 0], x0[:, 1], c = \"red\", marker='o', label='label0')\n",
    "plt.scatter(x1[:, 0], x1[:, 1], c = \"green\", marker='*', label='label1')\n",
    "plt.scatter(x2[:, 0], x2[:, 1], c = \"blue\", marker='+', label='label2')\n",
    "plt.xlabel('petal length')\n",
    "plt.ylabel('petal width')\n",
    "plt.legend(loc=2)\n",
    "plt.show()"
   ]
  },
  {
   "cell_type": "markdown",
   "id": "6929d7e6-1c5e-4f30-9b9e-2167188759d8",
   "metadata": {},
   "source": [
    "## Practice\n",
    "Please imitate it to perform on  the following dataset.The result show be visualized like above\n",
    "\n",
    "https://archive.ics.uci.edu/ml/datasets/seeds"
   ]
  }
 ],
 "metadata": {
  "kernelspec": {
   "display_name": "Python 3",
   "language": "python",
   "name": "python3"
  },
  "language_info": {
   "codemirror_mode": {
    "name": "ipython",
    "version": 3
   },
   "file_extension": ".py",
   "mimetype": "text/x-python",
   "name": "python",
   "nbconvert_exporter": "python",
   "pygments_lexer": "ipython3",
   "version": "3.8.8"
  }
 },
 "nbformat": 4,
 "nbformat_minor": 5
}
