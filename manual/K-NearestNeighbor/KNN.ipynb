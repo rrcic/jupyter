{
 "cells": [
  {
   "cell_type": "code",
   "execution_count": 2,
   "id": "78233e16",
   "metadata": {},
   "outputs": [],
   "source": [
    "import math\n",
    "from collections import Counter \n",
    "import numpy as np\n",
    "import matplotlib.pyplot as plt\n",
    "from matplotlib.colors import ListedColormap\n",
    "# Create color maps\n",
    "cmap_light = ListedColormap(['orange', 'cyan', 'cornflowerblue'])\n",
    "cmap_bold = ListedColormap(['darkorange', 'c', 'darkblue'])\n",
    "from sklearn import neighbors, datasets\n",
    "\n",
    "n_neighbors = 10\n",
    "\n",
    "# import some data to play with\n",
    "iris = datasets.load_iris()\n",
    "\n",
    "# we only take the first two features. We could avoid this ugly\n",
    "# slicing by using a two-dim dataset\n",
    "X = iris.data[:, :2]\n",
    "y = iris.target"
   ]
  },
  {
   "cell_type": "code",
   "execution_count": 79,
   "id": "7fc82537",
   "metadata": {},
   "outputs": [],
   "source": [
    "class KNNClassifier():\n",
    "    X=None\n",
    "    y=None\n",
    "    n_neighbors=0\n",
    "    \n",
    "    def __init__(self, n_neighbors=15):\n",
    "        self.n_neighbors=n_neighbors\n",
    "        \n",
    "    def fit(self, X, y):\n",
    "        self.X=np.array(X)\n",
    "        self.y=np.array(y)\n",
    "    \n",
    "    def predict_one(self, p):\n",
    "        distance_array=np.array(list(map(lambda o: math.dist(p, o), self.X)))\n",
    "        argsorted=np.argsort(distance_array)\n",
    "        neighbours = argsorted[:self.n_neighbors]\n",
    "        neighbour_labels = y[neighbours]\n",
    "        occurence_count = Counter(neighbour_labels)\n",
    "        most_frequent = occurence_count.most_common(1)[0][0]\n",
    "        return most_frequent\n",
    "        \n",
    "    def predict(self, X):\n",
    "        y_hat = np.array(list(map(self.predict_one, X)))\n",
    "        return y_hat"
   ]
  },
  {
   "cell_type": "code",
   "execution_count": 80,
   "id": "c9a48a44",
   "metadata": {},
   "outputs": [
    {
     "data": {
      "image/png": "[encoded data removed]",
      "text/plain": [
       "<Figure size 432x288 with 1 Axes>"
      ]
     },
     "metadata": {
      "needs_background": "light"
     },
     "output_type": "display_data"
    }
   ],
   "source": [
    "knn = KNNClassifier(n_neighbors)\n",
    "knn.fit(X, y)\n",
    "\n",
    "cmap_bold = ListedColormap(['darkorange', 'c', 'darkblue'])\n",
    "x_min, x_max = X[:, 0].min() - 1, X[:, 0].max() + 1\n",
    "y_min, y_max = X[:, 1].min() - 1, X[:, 1].max() + 1\n",
    "h = 0.02  # step size in the mesh\n",
    "xx, yy = np.meshgrid(np.arange(x_min, x_max, h),\n",
    "                     np.arange(y_min, y_max, h))\n",
    "\n",
    "\n",
    "Z = knn.predict(np.c_[xx.ravel(), yy.ravel()])\n",
    "\n",
    "# Put the result into a color plot\n",
    "Z = Z.reshape(xx.shape)\n",
    "plt.figure()\n",
    "plt.pcolormesh(xx, yy, Z, cmap=cmap_light)\n",
    "\n",
    "# Plot also the training points\n",
    "plt.scatter(X[:, 0], X[:, 1], c=y, cmap=cmap_bold,\n",
    "            edgecolor='k', s=20)\n",
    "plt.xlim(xx.min(), xx.max())\n",
    "plt.ylim(yy.min(), yy.max())\n",
    "plt.title(\"My KNN (k = %i)\"\n",
    "          % (n_neighbors))\n",
    "\n",
    "plt.show()"
   ]
  },
  {
   "cell_type": "code",
   "execution_count": 81,
   "id": "8726ba0f",
   "metadata": {},
   "outputs": [
    {
     "name": "stdout",
     "output_type": "stream",
     "text": [
      "[0 2 0 0 2 1 2 0 2 1 1 1 2 2 2 1 2 2 1 0 0 2 0 0 1 2 2 2 0 1 0 1 0 0 2 2 1\n",
      " 2]\n",
      "[0 2 0 0 2 1 2 0 2 1 2 1 2 2 1 2 2 1 1 0 0 2 0 0 1 1 1 2 0 1 0 1 0 0 2 2 1\n",
      " 2]\n"
     ]
    },
    {
     "data": {
      "text/plain": [
       "0.8421052631578947"
      ]
     },
     "execution_count": 81,
     "metadata": {},
     "output_type": "execute_result"
    }
   ],
   "source": [
    "from sklearn.model_selection import train_test_split\n",
    "x_train, x_test, y_train, y_test = train_test_split(X, y,test_size = 0.25, random_state=6)\n",
    "knn1  = KNNClassifier(n_neighbors)\n",
    "knn1.fit(x_train, y_train)\n",
    "Z1 = knn.predict(x_test)\n",
    "count = 0\n",
    "print(Z1)\n",
    "print(y_test)\n",
    "\n",
    "for  i in range(len(Z1)):\n",
    "    if Z1[i]  == y_test[i]:\n",
    "        count  = count + 1\n",
    "count/len(Z1)      \n"
   ]
  }
 ],
 "metadata": {
  "kernelspec": {
   "display_name": "Python 3 (ipykernel)",
   "language": "python",
   "name": "python3"
  },
  "language_info": {
   "codemirror_mode": {
    "name": "ipython",
    "version": 3
   },
   "file_extension": ".py",
   "mimetype": "text/x-python",
   "name": "python",
   "nbconvert_exporter": "python",
   "pygments_lexer": "ipython3",
   "version": "3.9.12"
  }
 },
 "nbformat": 4,
 "nbformat_minor": 5
}
